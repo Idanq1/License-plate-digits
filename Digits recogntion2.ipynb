{
 "cells": [
  {
   "cell_type": "code",
   "execution_count": 98,
   "id": "825575f8-f679-48fd-9348-2bdee848d44d",
   "metadata": {},
   "outputs": [],
   "source": [
    "from tensorflow.keras.preprocessing.image import ImageDataGenerator\n",
    "from tensorflow.keras.preprocessing.image import img_to_array\n",
    "from tensorflow.keras.models import load_model\n",
    "import matplotlib.pyplot as plt\n",
    "import tensorflow as tf\n",
    "from PIL import Image\n",
    "import numpy as np"
   ]
  },
  {
   "cell_type": "code",
   "execution_count": 58,
   "id": "6a76e218-f43d-4c80-97c1-29d56487163b",
   "metadata": {},
   "outputs": [],
   "source": [
    "model = tf.keras.models.load_model(r\"C:\\Users\\sasso\\OneDrive\\Digits.h5\")"
   ]
  },
  {
   "cell_type": "code",
   "execution_count": 139,
   "id": "2a6ae4ae-cae0-4cb7-a436-cee4c2e8cc5b",
   "metadata": {},
   "outputs": [],
   "source": [
    "h = 64\n",
    "w = 32"
   ]
  },
  {
   "cell_type": "code",
   "execution_count": 140,
   "id": "7cb2c9e1-836b-4f76-a7cb-60d536ad9c5e",
   "metadata": {},
   "outputs": [
    {
     "data": {
      "text/plain": [
       "(32, 64)"
      ]
     },
     "execution_count": 140,
     "metadata": {},
     "output_type": "execute_result"
    }
   ],
   "source": [
    "img_path = r\"Digits/Digit6.png\"\n",
    "img = Image.open(img_path).convert('L').convert(\"RGB\")\n",
    "img = img.resize((h, w))\n",
    "img.size"
   ]
  },
  {
   "cell_type": "code",
   "execution_count": 141,
   "id": "9b994852-ad6e-4bfc-9c40-cdfe114cf29f",
   "metadata": {},
   "outputs": [],
   "source": [
    "img_array = img_to_array(img)\n",
    "img_array /= 255.0\n",
    "img_batch = np.expand_dims(img_array, axis=0) "
   ]
  },
  {
   "cell_type": "code",
   "execution_count": 142,
   "id": "82534ee4-6f56-4a2b-9da8-a4c267110a9d",
   "metadata": {},
   "outputs": [
    {
     "name": "stdout",
     "output_type": "stream",
     "text": [
      "1/1 [==============================] - 0s 17ms/step\n"
     ]
    }
   ],
   "source": [
    "predictions = model.predict(img_batch)"
   ]
  },
  {
   "cell_type": "code",
   "execution_count": 144,
   "id": "39dee7f4-2003-4fb5-adc1-f12582f1493c",
   "metadata": {},
   "outputs": [
    {
     "data": {
      "text/plain": [
       "8"
      ]
     },
     "execution_count": 144,
     "metadata": {},
     "output_type": "execute_result"
    }
   ],
   "source": [
    "np.argmax(predictions, axis=1)[0]"
   ]
  },
  {
   "cell_type": "code",
   "execution_count": 132,
   "id": "675cec41-e3dc-4556-b2f8-ac400b63bc08",
   "metadata": {},
   "outputs": [
    {
     "data": {
      "text/plain": [
       "0.9999528"
      ]
     },
     "execution_count": 138,
     "metadata": {},
     "output_type": "execute_result"
    }
   ],
   "source": [
    "predictions[0][8]"
   ]
  },
  {
   "cell_type": "code",
   "execution_count": null,
   "id": "19c9a113-7ae1-4d9b-8a79-6ceeca321fa4",
   "metadata": {},
   "outputs": [],
   "source": []
  }
 ],
 "metadata": {
  "kernelspec": {
   "display_name": "Python 3 (ipykernel)",
   "language": "python",
   "name": "python3"
  },
  "language_info": {
   "codemirror_mode": {
    "name": "ipython",
    "version": 3
   },
   "file_extension": ".py",
   "mimetype": "text/x-python",
   "name": "python",
   "nbconvert_exporter": "python",
   "pygments_lexer": "ipython3",
   "version": "3.11.1"
  }
 },
 "nbformat": 4,
 "nbformat_minor": 5
}
