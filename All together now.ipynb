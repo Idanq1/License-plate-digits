{
 "cells": [
  {
   "cell_type": "code",
   "execution_count": 2,
   "id": "13f6fdcb-55b7-4075-8dca-c6213be3e0d0",
   "metadata": {},
   "outputs": [],
   "source": [
    "from tensorflow.keras.preprocessing.image import ImageDataGenerator\n",
    "from tensorflow.keras.preprocessing.image import img_to_array\n",
    "from tensorflow.keras.models import load_model\n",
    "import matplotlib.patches as patches\n",
    "from matplotlib import pyplot as plt\n",
    "import matplotlib.pyplot as plt\n",
    "import tensorflow as tf\n",
    "from PIL import Image\n",
    "import numpy as np\n",
    "import cv2\n",
    "# import matplotlib.pyplot as plt"
   ]
  },
  {
   "cell_type": "markdown",
   "id": "22885ec3-9227-4c2a-9531-eb45addb8d1f",
   "metadata": {},
   "source": [
    "# Finding license plate in an image"
   ]
  },
  {
   "cell_type": "code",
   "execution_count": null,
   "id": "1bdcb63a-4b28-40c3-bb4f-7023ce7eff85",
   "metadata": {},
   "outputs": [],
   "source": [
    "model = tf.saved_model.load(r\"../mobilenet_320_exported/saved_model\")"
   ]
  }
 ],
 "metadata": {
  "kernelspec": {
   "display_name": "Python 3 (ipykernel)",
   "language": "python",
   "name": "python3"
  },
  "language_info": {
   "codemirror_mode": {
    "name": "ipython",
    "version": 3
   },
   "file_extension": ".py",
   "mimetype": "text/x-python",
   "name": "python",
   "nbconvert_exporter": "python",
   "pygments_lexer": "ipython3",
   "version": "3.11.1"
  }
 },
 "nbformat": 4,
 "nbformat_minor": 5
}
